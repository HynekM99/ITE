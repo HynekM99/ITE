{
 "cells": [
  {
   "cell_type": "code",
   "execution_count": null,
   "metadata": {},
   "outputs": [],
   "source": [
    "import paho.mqtt.client as mqtt\n",
    "\n",
    "SERVER = '147.228.124.230'  # RPi\n",
    "TOPIC = 'ite/#'\n",
    "\n",
    "\n",
    "# The callback for when the client receives a CONNACK response from the server.\n",
    "def on_connect(client, userdata, mid, qos):\n",
    "    print('Connected with result code qos:', str(qos))\n",
    "\n",
    "    # Subscribing in on_connect() means that if we lose the connection and\n",
    "    # reconnect then subscriptions will be renewed.\n",
    "    client.subscribe(TOPIC)\n",
    "\n",
    "\n",
    "# The callback for when a PUBLISH message is received from the server.\n",
    "def on_message(client, userdata, msg):\n",
    "    if (msg.payload == 'Q'):\n",
    "        client.disconnect()\n",
    "    print(msg.topic, msg.qos, msg.payload)\n",
    "\n",
    "\n",
    "def main():\n",
    "    client = mqtt.Client()\n",
    "    client.on_connect = on_connect\n",
    "    client.on_message = on_message\n",
    "\n",
    "    client.username_pw_set('mqtt_student', password='pivo')\n",
    "\n",
    "    client.connect(SERVER, 1883, 60)\n",
    "\n",
    "    # Blocking call that processes network traffic, dispatches callbacks and\n",
    "    # handles reconnecting.\n",
    "    # Other loop*() functions are available that give a threaded interface and\n",
    "    # a manual interface.\n",
    "    client.loop_forever()\n",
    "\n",
    "\n",
    "if __name__ == '__main__':\n",
    "    main()"
   ]
  },
  {
   "cell_type": "code",
   "execution_count": null,
   "metadata": {},
   "outputs": [],
   "source": []
  }
 ],
 "metadata": {
  "kernelspec": {
   "display_name": "py37",
   "language": "python",
   "name": "py37"
  },
  "language_info": {
   "codemirror_mode": {
    "name": "ipython",
    "version": 3
   },
   "file_extension": ".py",
   "mimetype": "text/x-python",
   "name": "python",
   "nbconvert_exporter": "python",
   "pygments_lexer": "ipython3",
   "version": "3.7.7"
  }
 },
 "nbformat": 4,
 "nbformat_minor": 4
}
